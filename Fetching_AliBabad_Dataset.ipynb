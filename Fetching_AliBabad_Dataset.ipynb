{
 "cells": [
  {
   "cell_type": "code",
   "execution_count": null,
   "id": "3a853936",
   "metadata": {},
   "outputs": [],
   "source": [
    "#!/bin/bash  \n",
    "  \n",
    "url='http://alitrip.oss-cn-zhangjiakou.aliyuncs.com/TraceData'\n",
    "\n",
    "mkdir data\n",
    "cd data\n",
    "\n",
    "mkdir Node\n",
    "mkdir MSResource\n",
    "mkdir MSRTQps\n",
    "mkdir MSCallGraph\n",
    "\n",
    "cd Node\n",
    "command=\"curl ${url}/node/Node.tar.gz -o Node.tar.gz\"\n",
    "${command}\n",
    "\n",
    "cd ../MSRTQps\n",
    "for((i=0;i<=24;i++));  \n",
    "do   \n",
    "\tcommand=\"curl ${url}/MSRTQps/MSRTQps_${i}.tar.gz -o MSRTQps_${i}.tar.gz\"\n",
    "\t${command}\n",
    "done \n",
    "\n",
    "cd ../MSCallGraph\n",
    "for((i=0;i<=144;i++));  \n",
    "do   \n",
    "\tcommand=\"curl ${url}/MSCallGraph/MSCallGraph_${i}.tar.gz -o MSCallGraph_${i}.tar.gz\"\n",
    "\t${command}\n",
    "done \n",
    "\n",
    "cd ../MSResource\n",
    "for((i=0;i<=11;i++));  \n",
    "do   \n",
    "\tcommand=\"curl ${url}/MSResource/MSResource_${i}.tar.gz -o MSResource_${i}.tar.gz\"\n",
    "\t${command}\n",
    "done "
   ]
  }
 ],
 "metadata": {
  "kernelspec": {
   "display_name": "Python 3 (ipykernel)",
   "language": "python",
   "name": "python3"
  },
  "language_info": {
   "codemirror_mode": {
    "name": "ipython",
    "version": 3
   },
   "file_extension": ".py",
   "mimetype": "text/x-python",
   "name": "python",
   "nbconvert_exporter": "python",
   "pygments_lexer": "ipython3",
   "version": "3.9.12"
  }
 },
 "nbformat": 4,
 "nbformat_minor": 5
}
